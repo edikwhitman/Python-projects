{
 "cells": [
  {
   "cell_type": "markdown",
   "id": "7f862f40",
   "metadata": {},
   "source": [
    "\n",
    "# Рекурсия. Фракталы.\n",
    "***"
   ]
  },
  {
   "cell_type": "markdown",
   "id": "459c84b2",
   "metadata": {},
   "source": [
    "### Задание:\n",
    "Реализовать генерацию заданного типа фрактала с применением рекурсивных функций.\n",
    "\n",
    "Добавить возможность задания глубины фрактала.\n",
    "\n",
    "Оценить глубину рекурсии.\n",
    "\n",
    "\n",
    "Дерево пифагора\n",
    "\n",
    "### Выполнение:"
   ]
  },
  {
   "cell_type": "code",
   "execution_count": null,
   "id": "1a7b19a9",
   "metadata": {},
   "outputs": [
    {
     "name": "stdout",
     "output_type": "stream",
     "text": [
      "Введите глубину фрактала: 15\n",
      "Создание дерева - 15 - 0.8785288000000007 сек\n"
     ]
    }
   ],
   "source": [
    "import math \n",
    "from tkinter import * \n",
    "import timeit\n",
    "\n",
    "deep = \"\"\n",
    "while (not deep.isdigit()):\n",
    "    deep = input(\"Введите глубину фрактала: \")\n",
    "deep = int(deep)\n",
    "\n",
    "x = 750 #это параметры расположения дерева\n",
    "y = 750\n",
    "side = 100 #сторона квадрата\n",
    "alfa = math.pi/3\n",
    "\n",
    "def Pyth_tree(x, y, side, fi, alfa, deep, count_deep):\n",
    "    #эта функция рекурсивно рисует дерево Пифагора\n",
    "    dx = side*math.sin(fi)\n",
    "    dy = side*math.cos(fi)\n",
    "    x1 = x+dx\n",
    "    y1 = y-dy   \n",
    "    x2 = x + dx-dy\n",
    "    y2 = y - dy-dx\n",
    "    x3 = x-dy\n",
    "    y3 = y-dx\n",
    "    x4 = x-dy+side*math.cos(alfa)*math.sin(fi-alfa)\n",
    "    y4 = y-dx-side*math.cos(alfa)*math.cos(fi-alfa)\n",
    "    \n",
    "    if count_deep < 5:\n",
    "        colour = \"#\" + str(count_deep*20) + \"0000\"\n",
    "    elif count_deep < 9:\n",
    "        colour = \"#00\" + str(count_deep*10) + \"00\"\n",
    "    else: colour = \"#009900\"\n",
    "    canv.create_polygon(x, y, x1, y1, x2, y2, x3, y3, fill=colour)\n",
    "    canv.create_polygon(x3, y3, x2, y2, x4, y4, fill=colour)\n",
    "     \n",
    "    if deep > 1:\n",
    "        Pyth_tree(x4, y4, side*math.sin(alfa), fi-alfa+math.pi/2, alfa, deep-1,count_deep+1)\n",
    "        Pyth_tree(x3, y3, side*math.cos(alfa), fi-alfa, alfa, deep-1,count_deep+1)\n",
    "        \n",
    "#при вызове нижеприведенной команды мы создаем базовое окно приложения\n",
    "root = Tk();\n",
    "root.title(\"Pifagor's tree\")\n",
    "#создание холста\n",
    "canv = Canvas(root, width = 1600, height = 1200, bg = \"lightgreen\")\n",
    "canv.pack() \n",
    "canv.create_rectangle(0, 1200, 1600, 1200-y, fill=\"#ADFF2F\")\n",
    "#рисуем 1 дерево\n",
    "start = timeit.default_timer()\n",
    "Pyth_tree(x-100, y-100, side, math.pi/2, alfa*3/4, deep, 1)\n",
    "print(\"Создание дерева - \" + str(deep) + \" - \" + str(timeit.default_timer()-start) + \" сек\")\n",
    "root.mainloop()"
   ]
  },
  {
   "cell_type": "code",
   "execution_count": null,
   "id": "78a03796",
   "metadata": {},
   "outputs": [],
   "source": []
  }
 ],
 "metadata": {
  "kernelspec": {
   "display_name": "Python 3 (ipykernel)",
   "language": "python",
   "name": "python3"
  },
  "language_info": {
   "codemirror_mode": {
    "name": "ipython",
    "version": 3
   },
   "file_extension": ".py",
   "mimetype": "text/x-python",
   "name": "python",
   "nbconvert_exporter": "python",
   "pygments_lexer": "ipython3",
   "version": "3.9.7"
  }
 },
 "nbformat": 4,
 "nbformat_minor": 5
}
