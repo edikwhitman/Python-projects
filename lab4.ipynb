{
 "cells": [
  {
   "cell_type": "markdown",
   "metadata": {},
   "source": [
    "# Лабораторная работа №4\n",
    "## Выполнил студент группы БСТ2001 Уитман Э. У.\n"
   ]
  },
  {
   "cell_type": "markdown",
   "metadata": {},
   "source": [
    "Реализовать следующие структуры данных:\n",
    "\n",
    "Стек (stack):\n",
    "\n",
    "операции для стека: инициализация, проверка на пустоту, добавление нового элемента в начало, извлечение элемента из начала;\n",
    "\n",
    "Дек (двусторонняя очередь, deque):\n",
    "\n",
    "операции для дека: инициализация, проверка на пустоту, добавление нового элемента в начало, добавление нового элемента в конец, извлечение элемента из начала, извлечение элемента из конца.\n",
    "\n",
    "Разработать программу обработки данных, содержащихся в заранее подготовленном txt-файле, в соответствии с заданиями, применив указанную в задании структуру данных. Результат работы программы вывести на экран и сохранить в отдельном txt-файле.\n",
    "\n",
    "Оформить отчет о лабораторной работе в ipynb или pdf-файле."
   ]
  },
  {
   "cell_type": "code",
   "execution_count": 1,
   "metadata": {},
   "outputs": [],
   "source": [
    "class LinkedNode:\n",
    "    \"\"\" Связный список с ссылками на обратный и следующий элемент \"\"\"\n",
    "    def __init__(self, value=None):\n",
    "        self.value = value\n",
    "        self.right = None\n",
    "        self.left = None"
   ]
  },
  {
   "cell_type": "markdown",
   "metadata": {},
   "source": [
    "# Стек"
   ]
  },
  {
   "cell_type": "code",
   "execution_count": 2,
   "metadata": {},
   "outputs": [],
   "source": [
    "class Stack:    \n",
    "    def __init__(self):\n",
    "        self.head = LinkedNode()\n",
    "        self.size = 0\n",
    "\n",
    "    def is_empty(self):\n",
    "        return self.size == 0\n",
    "\n",
    "    def push(self, value):\n",
    "        if self.size > 0:\n",
    "            node = LinkedNode(value)\n",
    "            node.right = self.head\n",
    "            self.head = node\n",
    "        else:\n",
    "            self.head.value = value\n",
    "        self.size += 1\n",
    "      \n",
    "    def pop(self):\n",
    "        if self.is_empty():\n",
    "            raise Exception(\"Popping from an empty stack\")\n",
    "        remove = self.head\n",
    "        if self.size > 1:\n",
    "            self.head = remove.right\n",
    "        self.size -= 1\n",
    "        return remove.value\n",
    "    \n",
    "    def peek(self):\n",
    "        if self.is_empty():\n",
    "            raise Exception(\"Popping from an empty stack\")\n",
    "        return self.head.value\n",
    "    \n",
    "    def __len__(self):\n",
    "        return self.size\n",
    "\n",
    "    def reverse(self):\n",
    "        current = self.head\n",
    "        prev = None\n",
    "        next = None\n",
    " \n",
    "        while current is not None:\n",
    "            next = current.right\n",
    "            current.right = prev\n",
    "            prev = current\n",
    "            current = next\n",
    "\n",
    "        self.head = prev"
   ]
  },
  {
   "cell_type": "markdown",
   "metadata": {},
   "source": [
    "# Дек"
   ]
  },
  {
   "cell_type": "code",
   "execution_count": 3,
   "metadata": {},
   "outputs": [],
   "source": [
    "class Deque:\n",
    "    def __init__(self):\n",
    "        self.head = LinkedNode()\n",
    "        self.tail = self.head\n",
    "        self.size = 0\n",
    "    \n",
    "    def is_empty(self):\n",
    "        return self.size == 0\n",
    "\n",
    "    def push_left(self, value):\n",
    "        if self.size > 0:\n",
    "            node = LinkedNode(value)\n",
    "            node.right = self.tail\n",
    "            self.tail.left = node\n",
    "            self.tail = node\n",
    "        else:\n",
    "            self.tail.value = value\n",
    "        self.size += 1\n",
    "\n",
    "    def push(self, value):\n",
    "        if self.size > 0:\n",
    "            node = LinkedNode(value)\n",
    "            node.left = self.head\n",
    "            self.head.right = node\n",
    "            self.head = node\n",
    "        else:\n",
    "            self.head.value = value\n",
    "        self.size += 1\n",
    "    \n",
    "    def pop_left(self):\n",
    "        if self.is_empty():\n",
    "            raise Exception(\"Popping from an empty deque\")\n",
    "        remove = self.tail\n",
    "        if self.size > 1:\n",
    "            self.tail = remove.right\n",
    "        self.size -= 1\n",
    "        return remove.value\n",
    "    \n",
    "    def pop(self):\n",
    "        if self.is_empty():\n",
    "            raise Exception(\"Popping from an empty deque\")\n",
    "        remove = self.head\n",
    "        if self.size > 1:\n",
    "            self.head = remove.left\n",
    "        self.size -= 1\n",
    "        return remove.value\n",
    "    \n",
    "    def peek(self):\n",
    "        if self.is_empty():\n",
    "            raise Exception(\"Popping from an empty deque\")\n",
    "        return self.head.value\n",
    "    \n",
    "    def peek_left(self):\n",
    "        if self.is_empty():\n",
    "            raise Exception(\"Popping from an empty deque\")\n",
    "        return self.tail.value\n",
    "\n",
    "    def __len__(self):\n",
    "        return self.size"
   ]
  },
  {
   "cell_type": "markdown",
   "metadata": {},
   "source": [
    "# Задание 1\n",
    "Отсортировать строки файла, содержащие названия книг, в алфавитном порядке с использованием двух деков."
   ]
  },
  {
   "cell_type": "code",
   "execution_count": 4,
   "metadata": {},
   "outputs": [
    {
     "name": "stdout",
     "output_type": "stream",
     "text": [
      "Don Quixote by Miguel de Cervantes.\n",
      "Hamlet by William Shakespeare.\n",
      "In Search of Lost Time by Marcel Proust.\n",
      "Moby Dick by Herman Melville.\n",
      "One Hundred Years of Solitude by Gabriel Garcia Marquez.\n",
      "The Great Gatsby by F.\n",
      "Ulysses by James Joyce.\n",
      "War and Peace by Leo Tolstoy.\n"
     ]
    }
   ],
   "source": [
    "with open('books', 'r') as books:\n",
    "    output = open('output', 'w')\n",
    "    output.write('First task\\n')\n",
    "    q1 = Deque()\n",
    "    q2 = Deque()\n",
    "    for book in books:\n",
    "        q1.push(book.strip())\n",
    "    while not q1.is_empty():\n",
    "        x = q1.pop()\n",
    "        while not q2.is_empty() and q2.peek() < x:\n",
    "            q1.push_left(q2.pop())\n",
    "        q2.push(x)\n",
    "    while not q2.is_empty():\n",
    "        tmp = q2.pop()\n",
    "        output.write(tmp + '\\n')\n",
    "        print(tmp)"
   ]
  },
  {
   "cell_type": "markdown",
   "metadata": {},
   "source": [
    "# Задание 2.\n",
    "Дек содержит последовательность символов для шифровки сообщений. Дан текстовый файл, содержащий зашифрованное сообщение. Пользуясь деком, расшифровать текст. Известно, что при шифровке каждый символ сообщения заменялся следующим за ним в деке по часовой стрелке через один."
   ]
  },
  {
   "cell_type": "code",
   "execution_count": 5,
   "metadata": {},
   "outputs": [],
   "source": [
    "import random"
   ]
  },
  {
   "cell_type": "code",
   "execution_count": 6,
   "metadata": {},
   "outputs": [],
   "source": [
    "alphabet = list('lcbpdakhgofeminj')\n",
    "alphabet = ''.join(alphabet)\n",
    "keyRing = Deque()\n",
    "for letter in alphabet:\n",
    "    keyRing.push(letter)"
   ]
  },
  {
   "cell_type": "code",
   "execution_count": 7,
   "metadata": {},
   "outputs": [],
   "source": [
    "def encode_char(c):\n",
    "    for i in range(len(keyRing)):\n",
    "        x = keyRing.pop_left()\n",
    "        if x == c:\n",
    "            keyRing.push(x)\n",
    "            val = keyRing.pop_left()\n",
    "            keyRing.push(val)\n",
    "            return val\n",
    "        keyRing.push(x)\n",
    "\n",
    "def decode_char(c):\n",
    "    for i in range(len(keyRing)):\n",
    "        x = keyRing.pop()\n",
    "        if x == c:\n",
    "            keyRing.push_left(x)\n",
    "            val = keyRing.pop()\n",
    "            keyRing.push_left(val)\n",
    "            return val\n",
    "        keyRing.push_left(x)"
   ]
  },
  {
   "cell_type": "code",
   "execution_count": 8,
   "metadata": {},
   "outputs": [
    {
     "name": "stdout",
     "output_type": "stream",
     "text": [
      "lorem ipsum dolor sit amet, consectetur adipiscing elit, sed do eiusmod tempor incididunt ut labore et dolore magna aliqua. ut enim ad minim veniam, quis nostrud exercitation ullamco laboris nisi ut aliquip ex ea commodo consequat. duis aute irure dolor in reprehenderit in voluptate velit esse cillum dolore eu fugiat nulla pariatur. excepteur sint occaecat cupidatat non proident, sunt in culpa qui officia deserunt mollit anim id est laborum.\n"
     ]
    }
   ],
   "source": [
    "with open('encrypted_text', 'r') as text:\n",
    "    output.write('\\nSecond task\\n')\n",
    "    decoded = ''\n",
    "    for line in text:\n",
    "        for letter in line:\n",
    "            letter = letter.lower()\n",
    "            if decoded_letter := decode_char(letter):\n",
    "                decoded += decoded_letter\n",
    "            else:\n",
    "                decoded += letter\n",
    "        print(decoded)\n",
    "        output.write(decoded + '\\n')"
   ]
  },
  {
   "cell_type": "markdown",
   "metadata": {},
   "source": [
    "# Задание 3\n",
    "Даны три стержня и n дисков различного размера. Диски можно надевать на стержни, образуя из них башни. Перенести n дисков со стержня А на стержень С, сохранив их первоначальный порядок. При переносе дисков необходимо соблюдать следующие правила:\n",
    "\n",
    "на каждом шаге со стержня на стержень переносить только один диск;\n",
    "диск нельзя помещать на диск меньшего размера;\n",
    "для промежуточного хранения можно использовать стержень В. Реализовать алгоритм, используя три стека вместо стержней А, В, С. Информация о дисках хранится в исходном файле."
   ]
  },
  {
   "cell_type": "code",
   "execution_count": 9,
   "metadata": {},
   "outputs": [
    {
     "name": "stdout",
     "output_type": "stream",
     "text": [
      "1\n",
      "2\n",
      "3\n",
      "4\n",
      "5\n",
      "6\n",
      "7\n",
      "8\n",
      "9\n",
      "10\n"
     ]
    }
   ],
   "source": [
    "A = Stack()\n",
    "B = Stack()\n",
    "C = Stack()\n",
    "with open('disks', 'r') as disk:\n",
    "    lines = []\n",
    "    disks = int(disk.readline())\n",
    "    for i in range(disks):\n",
    "        tmp = disk.readline()\n",
    "        lines.append(int(tmp))\n",
    "    lines.reverse()\n",
    "    for i in lines:\n",
    "        A.push(i)\n",
    "\n",
    "def move(a, b):\n",
    "    if len(a) == 0 and len(b) > 0:\n",
    "        a.push(b.pop())\n",
    "    elif len(a) > 0 and len(b) == 0:\n",
    "        b.push(a.pop())\n",
    "    elif a.peek() > b.peek():\n",
    "        a.push(b.pop())\n",
    "    else:\n",
    "        b.push(a.pop())\n",
    "\n",
    "if disks % 2 == 0:\n",
    "    while len(C) != disks:\n",
    "        move(A, B)\n",
    "        move(A, C)\n",
    "        move(B, C)\n",
    "else:\n",
    "    while len(C) != disks:\n",
    "        move(A, C)\n",
    "        move(A, B)\n",
    "        move(B, C)\n",
    "output.write('\\nThird task\\n')\n",
    "while not C.is_empty():\n",
    "    tmp = C.pop()\n",
    "    output.write(str(tmp) + '\\n')\n",
    "    print(tmp)"
   ]
  },
  {
   "cell_type": "markdown",
   "metadata": {},
   "source": [
    "# Задание 4\n",
    "Дан текстовый файл с программой на алгоритмическом языке. За один просмотр файла проверить баланс круглых скобок в тексте, используя стек."
   ]
  },
  {
   "cell_type": "code",
   "execution_count": 10,
   "metadata": {},
   "outputs": [
    {
     "name": "stdout",
     "output_type": "stream",
     "text": [
      "False\n",
      "True\n"
     ]
    }
   ],
   "source": [
    "def check_brackets(string):\n",
    "    bracket_stack = Stack()\n",
    "    for i in string:\n",
    "        if i == '(':\n",
    "            bracket_stack.push(i)\n",
    "        elif i == ')':\n",
    "            if bracket_stack.is_empty():\n",
    "                return False\n",
    "            bracket_stack.pop()\n",
    "    return bracket_stack.is_empty()\n",
    "\n",
    "with open('brackets', 'r') as br:\n",
    "    output.write('\\nFourth task\\n')\n",
    "    for line in br:\n",
    "        output.write(str(check_brackets(line)) + '\\n')\n",
    "        print(check_brackets(line))"
   ]
  },
  {
   "cell_type": "markdown",
   "metadata": {},
   "source": [
    "# Задание 5\n",
    "Дан текстовый файл с программой на алгоритмическом языке. За один просмотр файла проверить баланс квадратных скобок в тексте, используя дек."
   ]
  },
  {
   "cell_type": "code",
   "execution_count": 11,
   "metadata": {},
   "outputs": [
    {
     "name": "stdout",
     "output_type": "stream",
     "text": [
      "False\n",
      "True\n"
     ]
    }
   ],
   "source": [
    "def check_square_brackets(string):\n",
    "    bracket_stack = Deque()\n",
    "    for i in string:\n",
    "        if i == '[':\n",
    "            bracket_stack.push(i)\n",
    "        elif i == ']':\n",
    "            if bracket_stack.is_empty():\n",
    "                return False\n",
    "            bracket_stack.pop()\n",
    "    return bracket_stack.is_empty()\n",
    "\n",
    "with open('brackets1', 'r') as br:\n",
    "    output.write('\\nFifth task\\n')\n",
    "    for line in br:\n",
    "        output.write(str(check_square_brackets(line)) + '\\n')\n",
    "        print(check_square_brackets(line))"
   ]
  },
  {
   "cell_type": "markdown",
   "metadata": {},
   "source": [
    "# Задание 6\n",
    "Дан файл из символов. Используя стек, за один просмотр файла напечатать сначала все цифры, затем все буквы, и, наконец, все остальные символы, сохраняя исходный порядок в каждой группе символов."
   ]
  },
  {
   "cell_type": "code",
   "execution_count": 12,
   "metadata": {},
   "outputs": [
    {
     "name": "stdout",
     "output_type": "stream",
     "text": [
      "45612778000LoremipsumdolorsitametconsecteturadipiscingelitseddoeiusmodtemporincididuntutlaboreetdoloremagnaaliquaUtenimadminimveniamquisnostrudexercitationullamcolaborisnisiutaliquipexeacommodoconsequat   ,   ,           .     ,            .\n"
     ]
    }
   ],
   "source": [
    "text = ''\n",
    "with open('digits_first', 'r') as df:\n",
    "    for line in df:\n",
    "        text += line\n",
    "letters = Stack()\n",
    "digits = Stack()\n",
    "others = Stack()\n",
    "\n",
    "for c in text:\n",
    "    if c.isalpha():\n",
    "        letters.push(c)\n",
    "    elif c.isdigit():\n",
    "        digits.push(c)\n",
    "    else:\n",
    "        others.push(c)\n",
    "\n",
    "new_text = ''\n",
    "\n",
    "letters.reverse()\n",
    "digits.reverse()\n",
    "others.reverse()\n",
    "\n",
    "while not digits.is_empty():\n",
    "    new_text += digits.pop()\n",
    "\n",
    "while not letters.is_empty():\n",
    "    new_text += letters.pop()\n",
    "\n",
    "while not others.is_empty():\n",
    "    new_text += others.pop()\n",
    "\n",
    "output.write('\\nSixth task\\n')\n",
    "output.write(new_text + '\\n')\n",
    "print(new_text)"
   ]
  },
  {
   "cell_type": "markdown",
   "metadata": {},
   "source": [
    "# Задание 7\n",
    "Дан файл из целых чисел. Используя дек, за один просмотр файла напечатать сначала все отрицательные числа, затем все положительные числа, сохраняя исходный порядок в каждой группе."
   ]
  },
  {
   "cell_type": "code",
   "execution_count": 13,
   "metadata": {},
   "outputs": [
    {
     "name": "stdout",
     "output_type": "stream",
     "text": [
      "-23\n",
      "-4945\n",
      "-11\n",
      "1\n",
      "33\n",
      "59\n",
      "302\n",
      "4\n",
      "3\n",
      "4\n",
      "9\n"
     ]
    }
   ],
   "source": [
    "numbers = []\n",
    "output.write('\\nSeventh task\\n')\n",
    "with open('numbers', 'r') as df:\n",
    "    for line in df:\n",
    "        numbers += list(map(int, line.split()))\n",
    "\n",
    "deque = Deque()\n",
    "for n in numbers:\n",
    "    if n < 0:\n",
    "        deque.push_left(n)\n",
    "    else:\n",
    "        deque.push(n)\n",
    "\n",
    "while not deque.is_empty():\n",
    "    x = deque.pop_left()\n",
    "    if x < 0:\n",
    "        deque.push(x)\n",
    "    else:\n",
    "        deque.push_left(x)\n",
    "        break\n",
    "\n",
    "while not deque.is_empty():\n",
    "    x = deque.pop()\n",
    "    if x < 0:\n",
    "        print(x)\n",
    "        output.write(str(x) + '\\n')\n",
    "    else:\n",
    "        deque.push(x)\n",
    "        break\n",
    "\n",
    "while not deque.is_empty():\n",
    "    tmp = str(deque.pop_left())\n",
    "    print(tmp)\n",
    "    output.write(tmp + '\\n')"
   ]
  },
  {
   "cell_type": "markdown",
   "metadata": {},
   "source": [
    "# Задание 8\n",
    "Дан текстовый файл. Используя стек, сформировать новый текстовый файл, содержащий строки исходного файла, записанные в обратном порядке: первая строка становится последней, вторая – предпоследней и т.д."
   ]
  },
  {
   "cell_type": "code",
   "execution_count": 14,
   "metadata": {},
   "outputs": [
    {
     "name": "stdout",
     "output_type": "stream",
     "text": [
      "Hamlet by William Shakespeare.\n",
      "War and Peace by Leo Tolstoy.\n",
      "Moby Dick by Herman Melville.\n",
      "The Great Gatsby by F.\n",
      "One Hundred Years of Solitude by Gabriel Garcia Marquez.\n",
      "Don Quixote by Miguel de Cervantes.\n",
      "Ulysses by James Joyce.\n",
      "In Search of Lost Time by Marcel Proust.\n"
     ]
    }
   ],
   "source": [
    "output.write('\\nEighth task\\n')\n",
    "with open('books', 'r') as books:\n",
    "    stack = Stack()\n",
    "    for book in books:\n",
    "        book = book.strip()\n",
    "        stack.push(book)\n",
    "\n",
    "    while not stack.is_empty():\n",
    "        tmp = str(stack.pop())\n",
    "        print(tmp)\n",
    "        output.write(tmp + '\\n')\n",
    "output.close()"
   ]
  },
  {
   "cell_type": "markdown",
   "metadata": {},
   "source": [
    "# Вывод:\n",
    "### В ходе лабораторной работы мы реализовали stack/deque."
   ]
  }
 ],
 "metadata": {
  "kernelspec": {
   "display_name": "Python 3 (ipykernel)",
   "language": "python",
   "name": "python3"
  },
  "language_info": {
   "codemirror_mode": {
    "name": "ipython",
    "version": 3
   },
   "file_extension": ".py",
   "mimetype": "text/x-python",
   "name": "python",
   "nbconvert_exporter": "python",
   "pygments_lexer": "ipython3",
   "version": "3.9.7"
  }
 },
 "nbformat": 4,
 "nbformat_minor": 4
}
